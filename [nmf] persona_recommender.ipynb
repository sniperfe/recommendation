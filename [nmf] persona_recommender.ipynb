{
 "cells": [
  {
   "cell_type": "code",
   "execution_count": 14,
   "id": "revised-psychiatry",
   "metadata": {
    "pycharm": {
     "name": "#%%\n"
    }
   },
   "outputs": [],
   "source": [
    "import pandas as pd\n",
    "import numpy as np\n",
    "from sklearn.model_selection import train_test_split\n",
    "from sklearn.metrics import mean_squared_error\n",
    "from sklearn.model_selection import ShuffleSplit\n",
    "from sklearn.preprocessing import LabelEncoder\n",
    "from sklearn.model_selection import KFold\n",
    "from sklearn.ensemble import RandomForestRegressor\n",
    "from sklearn.model_selection import GridSearchCV\n",
    "import matplotlib.pyplot as plt\n",
    "import seaborn as sns\n",
    "import time, math\n",
    "from sklearn.preprocessing import scale\n",
    "from scipy import sparse\n",
    "from sklearn.decomposition import NMF\n",
    "from sklearn.exceptions import ConvergenceWarning\n",
    "import _pickle as cPickle\n",
    "import warnings\n",
    "from matplotlib import pyplot as plt\n",
    "import numpy as np\n",
    "warnings.filterwarnings(\"ignore\", category=DeprecationWarning)\n",
    "warnings.filterwarnings('ignore', category=ConvergenceWarning)"
   ]
  },
  {
   "cell_type": "code",
   "execution_count": 15,
   "id": "external-request",
   "metadata": {},
   "outputs": [],
   "source": [
    "def hitRatio(t1, t2):\n",
    "    cnt = 0\n",
    "    for i in t1:\n",
    "        for j in t2:\n",
    "            if i == j:\n",
    "                cnt = cnt + 1\n",
    "    return int(cnt/len(t1) *100)"
   ]
  },
  {
   "cell_type": "code",
   "execution_count": 16,
   "id": "infectious-cambodia",
   "metadata": {},
   "outputs": [],
   "source": [
    "def totalHitRatio(_nmf_rank, _persona):\n",
    "    hit_per = []\n",
    "    for p in _persona:\n",
    "        hit = 0\n",
    "        for i in range(len(p)):\n",
    "            hit = hit + hitRatio(p[i], _nmf_rank[i])\n",
    "        hit_per.append(round(hit / len(p),2))\n",
    "    return hit_per"
   ]
  },
  {
   "cell_type": "code",
   "execution_count": 17,
   "id": "biblical-motivation",
   "metadata": {
    "pycharm": {
     "name": "#%%\n"
    }
   },
   "outputs": [],
   "source": [
    "# NMF에 들어갈 Shape을 만들어 준다.\n",
    "def GetShape(filename):\n",
    "    df = pd.read_csv(filename, sep='|')\n",
    "    n_users = len(df['persona'].unique())\n",
    "    n_items = len(df['movie_id'].unique())\n",
    "    return (n_users, n_items)"
   ]
  },
  {
   "cell_type": "code",
   "execution_count": 18,
   "id": "thrown-junior",
   "metadata": {
    "pycharm": {
     "name": "#%%\n"
    }
   },
   "outputs": [],
   "source": [
    "# R= (X,y), iin sparse format\n",
    "def ConvertToDense(X, y, shape):\n",
    "    row = X[:, 0]\n",
    "    col = X[:, 1]\n",
    "    data = y\n",
    "    matrix_sparse = sparse.csr_matrix((data, (row, col)))\n",
    "    R = matrix_sparse.todense()\n",
    "    R = R[0:, 0:]\n",
    "    R = np.asarray(R)\n",
    "    return R"
   ]
  },
  {
   "cell_type": "code",
   "execution_count": 19,
   "id": "dress-symphony",
   "metadata": {},
   "outputs": [],
   "source": [
    "# 데이터를 로드한다.\n",
    "def LoadData(filename, R_shape):\n",
    "    df = pd.read_csv(filename, sep='|')\n",
    "    X = df[['persona', 'movie_id', 'rating']].values\n",
    "    y = df['rating'].values\n",
    "    return X, y, ConvertToDense(X, y, R_shape)"
   ]
  },
  {
   "cell_type": "code",
   "execution_count": 20,
   "id": "lesbian-reach",
   "metadata": {},
   "outputs": [],
   "source": [
    "def get_rmse(pred, actual):\n",
    "    pred = pred[actual.nonzero()].flatten()     # Ignore nonzero terms\n",
    "    actual = actual[actual.nonzero()].flatten() # Ignore nonzero terms\n",
    "    return np.sqrt(mean_squared_error(pred, actual))"
   ]
  },
  {
   "cell_type": "code",
   "execution_count": 21,
   "id": "young-commission",
   "metadata": {},
   "outputs": [],
   "source": [
    "def make_recommendation_activeuser(item_info, R, prediction, user_idx, k=5):\n",
    "    rated_items_df_user = pd.DataFrame(R).iloc[user_idx, :]                 # get the list of actual ratings of user_idx (seen movies)\n",
    "    user_prediction_df_user = pd.DataFrame(prediction).iloc[user_idx,:]     # get the list of predicted ratings of user_idx (unseen movies)\n",
    "    reco_df = pd.concat([rated_items_df_user, user_prediction_df_user, item_info], axis=1)   # merge both lists with the movie's title\n",
    "    reco_df.columns = ['rating', 'prediction','title']\n",
    "    #print('Preferred movies for user #', user_idx)\n",
    "    #print(reco_df.sort_values(by='prediction', ascending=False)[:k])          # returns the 5 seen movies with the best actual ratings\n",
    "    # print('Recommended movies for user #', user_idx)\n",
    "    reco_df = reco_df[ reco_df['rating'] == 0]\n",
    "    return reco_df.sort_values(by='prediction', ascending=False)[:k]\n",
    "    # print (reco_df.sort_values(by='prediction', ascending=False)[:k])        # returns the 5 unseen movies with the best predicted ratings"
   ]
  },
  {
   "cell_type": "code",
   "execution_count": 22,
   "id": "accessible-granny",
   "metadata": {},
   "outputs": [],
   "source": [
    "def make_activeuser(item_info, R, prediction, user_idx, k=5):\n",
    "    rated_items_df_user = pd.DataFrame(R).iloc[user_idx, :]                 # get the list of actual ratings of user_idx (seen movies)\n",
    "    user_prediction_df_user = pd.DataFrame(prediction).iloc[user_idx,:]     # get the list of predicted ratings of user_idx (unseen movies)\n",
    "    reco_df = pd.concat([rated_items_df_user, user_prediction_df_user, item_info], axis=1)   # merge both lists with the movie's title\n",
    "    reco_df.columns = ['rating', 'prediction','title']\n",
    "    #print('Preferred movies for user #', user_idx)\n",
    "    #print(reco_df.sort_values(by='prediction', ascending=False)[:k])          # returns the 5 seen movies with the best actual ratings\n",
    "    # print('Recommended movies for user #', user_idx)\n",
    "    reco_df = reco_df[ reco_df['rating'] == 0]\n",
    "    return reco_df.sort_values(by='prediction', ascending=False)[:k]\n",
    "    # print (reco_df.sort_values(by='prediction', ascending=False)[:k])        # returns the 5 unseen movies with the best predicted ratings"
   ]
  },
  {
   "cell_type": "code",
   "execution_count": 30,
   "id": "moved-desperate",
   "metadata": {},
   "outputs": [],
   "source": [
    "_PERSONA_NUM_ = ['30']\n",
    "_TOP_N_ = 12\n",
    "_THRESHOLD_ = 3.5"
   ]
  },
  {
   "cell_type": "code",
   "execution_count": 37,
   "id": "considerable-pizza",
   "metadata": {},
   "outputs": [
    {
     "name": "stdout",
     "output_type": "stream",
     "text": [
      "Start!\n",
      "RMSE test: 8.318156136202264\n",
      "End!\n"
     ]
    }
   ],
   "source": [
    "print(\"Start!\")\n",
    "for i in _PERSONA_NUM_:   \n",
    "    # Load the data set\n",
    "    R_shape = GetShape('./files/persona_data.d')\n",
    "    X, y, R = LoadData('./files/persona_data.d', R_shape)\n",
    "    item_info = pd.read_csv('./files/u.item', sep='|', header=None, usecols=[1], engine='python')   # Information about the item\n",
    "    item_info.columns = ['title']\n",
    "\n",
    "    # Choose a model: NMF\n",
    "    parametersNMF = {\n",
    "        'n_components': 15,  # number of latent factors\n",
    "        'init': 'random',\n",
    "        'random_state': 0,\n",
    "        'alpha': 0.001,  # regularization term\n",
    "        'l1_ratio': 0,  # set regularization = L2\n",
    "        'max_iter': 15\n",
    "    }\n",
    "\n",
    "    estimator = NMF(**parametersNMF)\n",
    "    R_train = ConvertToDense(X, y, R_shape)\n",
    "    R_test = ConvertToDense(X_test, y_test, R_shape)\n",
    "    \n",
    "    estimator.fit(R_train)\n",
    "    Theta = estimator.transform(R_train)  # user features\n",
    "    M = estimator.components_.T  # item features\n",
    "    R_pred = M.dot(Theta.T)\n",
    "    R_pred = R_pred.T\n",
    "    \n",
    "    print ('RMSE test:', get_rmse(R_pred, R_test))\n",
    "    \n",
    "    #nmf_rank = []\n",
    "    #df = pd.read_csv('./files/mp.data', sep='|')\n",
    "    #np.save('nmf_pred', R_pred)\n",
    "    #np.save('nmf_r', R)\n",
    "\n",
    "print(\"End!\")"
   ]
  },
  {
   "cell_type": "code",
   "execution_count": 38,
   "id": "spanish-joyce",
   "metadata": {},
   "outputs": [],
   "source": [
    "def precisionRecallAtK(pred, topN, th):\n",
    "    # pred\n",
    "    pred.sort_values(by='prediction', ascending=False)[:k]"
   ]
  },
  {
   "cell_type": "code",
   "execution_count": 39,
   "id": "boring-snowboard",
   "metadata": {},
   "outputs": [
    {
     "name": "stdout",
     "output_type": "stream",
     "text": [
      "93.1818181831818\n",
      "93.54545454674546\n"
     ]
    }
   ],
   "source": [
    "# make_recommendation_activeuser(item_info, R, R_pred, user_idx=j, k=_TOP_N_)\n",
    "# make_recommendation_activeuser(item_info, R, prediction, user_idx, k=5):\n",
    "\n",
    "topN = 50\n",
    "total_precision = 0\n",
    "total_recall = 0\n",
    "p_div_cnt = 0\n",
    "r_div_cnt = 0\n",
    "for j in range(22):\n",
    "    user_idx = j\n",
    "    vCnt = 0\n",
    "    rated_items_df_user = pd.DataFrame(R).iloc[user_idx, :]                 # get the list of actual ratings of user_idx (seen movies)\n",
    "    user_prediction_df_user = pd.DataFrame(R_pred).iloc[user_idx,:]     # get the list of predicted ratings of user_idx (unseen movies)\n",
    "    reco_df = pd.concat([rated_items_df_user, user_prediction_df_user, item_info], axis=1)   # merge both lists with the movie's title\n",
    "    reco_df.columns = ['rating', 'prediction','title']\n",
    "    # precision At K\n",
    "    to_data = reco_df.sort_values(by='prediction', ascending=False)[:topN]\n",
    "    n_to_data = np.array(to_data)\n",
    "    n_rel = 0\n",
    "    for r in n_to_data:\n",
    "        if (r[0]> 0):\n",
    "            vCnt = vCnt + 1\n",
    "            if( r[1] >= _THRESHOLD_ ):\n",
    "                n_rel = n_rel + 1\n",
    "        \n",
    "    # precisionAtK = k / \n",
    "    if(vCnt != 0 ):\n",
    "        p_div_cnt = p_div_cnt + 1\n",
    "    \n",
    "    total_precision = total_precision + ((n_rel+0.00000001) / (vCnt+0.00000001))\n",
    "\n",
    "    # recall At K\n",
    "    vCnt = 0\n",
    "    reco_df.sort_values(by='rating', ascending=False)[:topN]\n",
    "    n_to_data = np.array(to_data)\n",
    "    n_rel = 0\n",
    "    for r in n_to_data:\n",
    "        if (r[0]> 0):\n",
    "            vCnt = vCnt + 1\n",
    "            if( r[0] >= _THRESHOLD_ ):\n",
    "                n_rel = n_rel + 1\n",
    "    \n",
    "    if(vCnt != 0 ):\n",
    "        r_div_cnt = r_div_cnt + 1\n",
    "        \n",
    "    total_recall = total_recall + ((n_rel+0.00000001) / (vCnt+0.00000001))\n",
    "print((total_precision / p_div_cnt) * 100 )\n",
    "print((total_recall / r_div_cnt) * 100)"
   ]
  },
  {
   "cell_type": "code",
   "execution_count": 40,
   "id": "fiscal-footage",
   "metadata": {},
   "outputs": [
    {
     "ename": "IndexError",
     "evalue": "single positional indexer is out-of-bounds",
     "output_type": "error",
     "traceback": [
      "\u001b[1;31m---------------------------------------------------------------------------\u001b[0m",
      "\u001b[1;31mIndexError\u001b[0m                                Traceback (most recent call last)",
      "\u001b[1;32m<ipython-input-40-cee1ab066f38>\u001b[0m in \u001b[0;36m<module>\u001b[1;34m\u001b[0m\n\u001b[0;32m      1\u001b[0m \u001b[1;32mimport\u001b[0m \u001b[0mtime\u001b[0m\u001b[1;33m\u001b[0m\u001b[1;33m\u001b[0m\u001b[0m\n\u001b[0;32m      2\u001b[0m \u001b[0mstart\u001b[0m \u001b[1;33m=\u001b[0m \u001b[0mtime\u001b[0m\u001b[1;33m.\u001b[0m\u001b[0mtime\u001b[0m\u001b[1;33m(\u001b[0m\u001b[1;33m)\u001b[0m\u001b[1;33m\u001b[0m\u001b[1;33m\u001b[0m\u001b[0m\n\u001b[1;32m----> 3\u001b[1;33m \u001b[0mmake_recommendation_activeuser\u001b[0m\u001b[1;33m(\u001b[0m\u001b[0mitem_info\u001b[0m\u001b[1;33m,\u001b[0m \u001b[0mR\u001b[0m\u001b[1;33m,\u001b[0m \u001b[0mR_pred\u001b[0m\u001b[1;33m,\u001b[0m \u001b[0muser_idx\u001b[0m\u001b[1;33m=\u001b[0m\u001b[1;36m57\u001b[0m\u001b[1;33m,\u001b[0m \u001b[0mk\u001b[0m\u001b[1;33m=\u001b[0m\u001b[1;36m1000\u001b[0m\u001b[1;33m)\u001b[0m\u001b[1;33m\u001b[0m\u001b[1;33m\u001b[0m\u001b[0m\n\u001b[0m\u001b[0;32m      4\u001b[0m \u001b[0mprint\u001b[0m\u001b[1;33m(\u001b[0m\u001b[0mtime\u001b[0m\u001b[1;33m.\u001b[0m\u001b[0mtime\u001b[0m\u001b[1;33m(\u001b[0m\u001b[1;33m)\u001b[0m\u001b[1;33m-\u001b[0m\u001b[0mstart\u001b[0m\u001b[1;33m)\u001b[0m\u001b[1;33m\u001b[0m\u001b[1;33m\u001b[0m\u001b[0m\n",
      "\u001b[1;32m<ipython-input-21-32ffe93f53b1>\u001b[0m in \u001b[0;36mmake_recommendation_activeuser\u001b[1;34m(item_info, R, prediction, user_idx, k)\u001b[0m\n\u001b[0;32m      1\u001b[0m \u001b[1;32mdef\u001b[0m \u001b[0mmake_recommendation_activeuser\u001b[0m\u001b[1;33m(\u001b[0m\u001b[0mitem_info\u001b[0m\u001b[1;33m,\u001b[0m \u001b[0mR\u001b[0m\u001b[1;33m,\u001b[0m \u001b[0mprediction\u001b[0m\u001b[1;33m,\u001b[0m \u001b[0muser_idx\u001b[0m\u001b[1;33m,\u001b[0m \u001b[0mk\u001b[0m\u001b[1;33m=\u001b[0m\u001b[1;36m5\u001b[0m\u001b[1;33m)\u001b[0m\u001b[1;33m:\u001b[0m\u001b[1;33m\u001b[0m\u001b[1;33m\u001b[0m\u001b[0m\n\u001b[1;32m----> 2\u001b[1;33m     \u001b[0mrated_items_df_user\u001b[0m \u001b[1;33m=\u001b[0m \u001b[0mpd\u001b[0m\u001b[1;33m.\u001b[0m\u001b[0mDataFrame\u001b[0m\u001b[1;33m(\u001b[0m\u001b[0mR\u001b[0m\u001b[1;33m)\u001b[0m\u001b[1;33m.\u001b[0m\u001b[0miloc\u001b[0m\u001b[1;33m[\u001b[0m\u001b[0muser_idx\u001b[0m\u001b[1;33m,\u001b[0m \u001b[1;33m:\u001b[0m\u001b[1;33m]\u001b[0m                 \u001b[1;31m# get the list of actual ratings of user_idx (seen movies)\u001b[0m\u001b[1;33m\u001b[0m\u001b[1;33m\u001b[0m\u001b[0m\n\u001b[0m\u001b[0;32m      3\u001b[0m     \u001b[0muser_prediction_df_user\u001b[0m \u001b[1;33m=\u001b[0m \u001b[0mpd\u001b[0m\u001b[1;33m.\u001b[0m\u001b[0mDataFrame\u001b[0m\u001b[1;33m(\u001b[0m\u001b[0mprediction\u001b[0m\u001b[1;33m)\u001b[0m\u001b[1;33m.\u001b[0m\u001b[0miloc\u001b[0m\u001b[1;33m[\u001b[0m\u001b[0muser_idx\u001b[0m\u001b[1;33m,\u001b[0m\u001b[1;33m:\u001b[0m\u001b[1;33m]\u001b[0m     \u001b[1;31m# get the list of predicted ratings of user_idx (unseen movies)\u001b[0m\u001b[1;33m\u001b[0m\u001b[1;33m\u001b[0m\u001b[0m\n\u001b[0;32m      4\u001b[0m     \u001b[0mreco_df\u001b[0m \u001b[1;33m=\u001b[0m \u001b[0mpd\u001b[0m\u001b[1;33m.\u001b[0m\u001b[0mconcat\u001b[0m\u001b[1;33m(\u001b[0m\u001b[1;33m[\u001b[0m\u001b[0mrated_items_df_user\u001b[0m\u001b[1;33m,\u001b[0m \u001b[0muser_prediction_df_user\u001b[0m\u001b[1;33m,\u001b[0m \u001b[0mitem_info\u001b[0m\u001b[1;33m]\u001b[0m\u001b[1;33m,\u001b[0m \u001b[0maxis\u001b[0m\u001b[1;33m=\u001b[0m\u001b[1;36m1\u001b[0m\u001b[1;33m)\u001b[0m   \u001b[1;31m# merge both lists with the movie's title\u001b[0m\u001b[1;33m\u001b[0m\u001b[1;33m\u001b[0m\u001b[0m\n\u001b[0;32m      5\u001b[0m     \u001b[0mreco_df\u001b[0m\u001b[1;33m.\u001b[0m\u001b[0mcolumns\u001b[0m \u001b[1;33m=\u001b[0m \u001b[1;33m[\u001b[0m\u001b[1;34m'rating'\u001b[0m\u001b[1;33m,\u001b[0m \u001b[1;34m'prediction'\u001b[0m\u001b[1;33m,\u001b[0m\u001b[1;34m'title'\u001b[0m\u001b[1;33m]\u001b[0m\u001b[1;33m\u001b[0m\u001b[1;33m\u001b[0m\u001b[0m\n",
      "\u001b[1;32mD:\\dev\\anaconda\\envs\\py-3.6\\lib\\site-packages\\pandas\\core\\indexing.py\u001b[0m in \u001b[0;36m__getitem__\u001b[1;34m(self, key)\u001b[0m\n\u001b[0;32m    871\u001b[0m                     \u001b[1;31m# AttributeError for IntervalTree get_value\u001b[0m\u001b[1;33m\u001b[0m\u001b[1;33m\u001b[0m\u001b[1;33m\u001b[0m\u001b[0m\n\u001b[0;32m    872\u001b[0m                     \u001b[1;32mpass\u001b[0m\u001b[1;33m\u001b[0m\u001b[1;33m\u001b[0m\u001b[0m\n\u001b[1;32m--> 873\u001b[1;33m             \u001b[1;32mreturn\u001b[0m \u001b[0mself\u001b[0m\u001b[1;33m.\u001b[0m\u001b[0m_getitem_tuple\u001b[0m\u001b[1;33m(\u001b[0m\u001b[0mkey\u001b[0m\u001b[1;33m)\u001b[0m\u001b[1;33m\u001b[0m\u001b[1;33m\u001b[0m\u001b[0m\n\u001b[0m\u001b[0;32m    874\u001b[0m         \u001b[1;32melse\u001b[0m\u001b[1;33m:\u001b[0m\u001b[1;33m\u001b[0m\u001b[1;33m\u001b[0m\u001b[0m\n\u001b[0;32m    875\u001b[0m             \u001b[1;31m# we by definition only have the 0th axis\u001b[0m\u001b[1;33m\u001b[0m\u001b[1;33m\u001b[0m\u001b[1;33m\u001b[0m\u001b[0m\n",
      "\u001b[1;32mD:\\dev\\anaconda\\envs\\py-3.6\\lib\\site-packages\\pandas\\core\\indexing.py\u001b[0m in \u001b[0;36m_getitem_tuple\u001b[1;34m(self, tup)\u001b[0m\n\u001b[0;32m   1441\u001b[0m     \u001b[1;32mdef\u001b[0m \u001b[0m_getitem_tuple\u001b[0m\u001b[1;33m(\u001b[0m\u001b[0mself\u001b[0m\u001b[1;33m,\u001b[0m \u001b[0mtup\u001b[0m\u001b[1;33m:\u001b[0m \u001b[0mTuple\u001b[0m\u001b[1;33m)\u001b[0m\u001b[1;33m:\u001b[0m\u001b[1;33m\u001b[0m\u001b[1;33m\u001b[0m\u001b[0m\n\u001b[0;32m   1442\u001b[0m \u001b[1;33m\u001b[0m\u001b[0m\n\u001b[1;32m-> 1443\u001b[1;33m         \u001b[0mself\u001b[0m\u001b[1;33m.\u001b[0m\u001b[0m_has_valid_tuple\u001b[0m\u001b[1;33m(\u001b[0m\u001b[0mtup\u001b[0m\u001b[1;33m)\u001b[0m\u001b[1;33m\u001b[0m\u001b[1;33m\u001b[0m\u001b[0m\n\u001b[0m\u001b[0;32m   1444\u001b[0m         \u001b[1;32mtry\u001b[0m\u001b[1;33m:\u001b[0m\u001b[1;33m\u001b[0m\u001b[1;33m\u001b[0m\u001b[0m\n\u001b[0;32m   1445\u001b[0m             \u001b[1;32mreturn\u001b[0m \u001b[0mself\u001b[0m\u001b[1;33m.\u001b[0m\u001b[0m_getitem_lowerdim\u001b[0m\u001b[1;33m(\u001b[0m\u001b[0mtup\u001b[0m\u001b[1;33m)\u001b[0m\u001b[1;33m\u001b[0m\u001b[1;33m\u001b[0m\u001b[0m\n",
      "\u001b[1;32mD:\\dev\\anaconda\\envs\\py-3.6\\lib\\site-packages\\pandas\\core\\indexing.py\u001b[0m in \u001b[0;36m_has_valid_tuple\u001b[1;34m(self, key)\u001b[0m\n\u001b[0;32m    700\u001b[0m                 \u001b[1;32mraise\u001b[0m \u001b[0mIndexingError\u001b[0m\u001b[1;33m(\u001b[0m\u001b[1;34m\"Too many indexers\"\u001b[0m\u001b[1;33m)\u001b[0m\u001b[1;33m\u001b[0m\u001b[1;33m\u001b[0m\u001b[0m\n\u001b[0;32m    701\u001b[0m             \u001b[1;32mtry\u001b[0m\u001b[1;33m:\u001b[0m\u001b[1;33m\u001b[0m\u001b[1;33m\u001b[0m\u001b[0m\n\u001b[1;32m--> 702\u001b[1;33m                 \u001b[0mself\u001b[0m\u001b[1;33m.\u001b[0m\u001b[0m_validate_key\u001b[0m\u001b[1;33m(\u001b[0m\u001b[0mk\u001b[0m\u001b[1;33m,\u001b[0m \u001b[0mi\u001b[0m\u001b[1;33m)\u001b[0m\u001b[1;33m\u001b[0m\u001b[1;33m\u001b[0m\u001b[0m\n\u001b[0m\u001b[0;32m    703\u001b[0m             \u001b[1;32mexcept\u001b[0m \u001b[0mValueError\u001b[0m \u001b[1;32mas\u001b[0m \u001b[0merr\u001b[0m\u001b[1;33m:\u001b[0m\u001b[1;33m\u001b[0m\u001b[1;33m\u001b[0m\u001b[0m\n\u001b[0;32m    704\u001b[0m                 raise ValueError(\n",
      "\u001b[1;32mD:\\dev\\anaconda\\envs\\py-3.6\\lib\\site-packages\\pandas\\core\\indexing.py\u001b[0m in \u001b[0;36m_validate_key\u001b[1;34m(self, key, axis)\u001b[0m\n\u001b[0;32m   1350\u001b[0m             \u001b[1;32mreturn\u001b[0m\u001b[1;33m\u001b[0m\u001b[1;33m\u001b[0m\u001b[0m\n\u001b[0;32m   1351\u001b[0m         \u001b[1;32melif\u001b[0m \u001b[0mis_integer\u001b[0m\u001b[1;33m(\u001b[0m\u001b[0mkey\u001b[0m\u001b[1;33m)\u001b[0m\u001b[1;33m:\u001b[0m\u001b[1;33m\u001b[0m\u001b[1;33m\u001b[0m\u001b[0m\n\u001b[1;32m-> 1352\u001b[1;33m             \u001b[0mself\u001b[0m\u001b[1;33m.\u001b[0m\u001b[0m_validate_integer\u001b[0m\u001b[1;33m(\u001b[0m\u001b[0mkey\u001b[0m\u001b[1;33m,\u001b[0m \u001b[0maxis\u001b[0m\u001b[1;33m)\u001b[0m\u001b[1;33m\u001b[0m\u001b[1;33m\u001b[0m\u001b[0m\n\u001b[0m\u001b[0;32m   1353\u001b[0m         \u001b[1;32melif\u001b[0m \u001b[0misinstance\u001b[0m\u001b[1;33m(\u001b[0m\u001b[0mkey\u001b[0m\u001b[1;33m,\u001b[0m \u001b[0mtuple\u001b[0m\u001b[1;33m)\u001b[0m\u001b[1;33m:\u001b[0m\u001b[1;33m\u001b[0m\u001b[1;33m\u001b[0m\u001b[0m\n\u001b[0;32m   1354\u001b[0m             \u001b[1;31m# a tuple should already have been caught by this point\u001b[0m\u001b[1;33m\u001b[0m\u001b[1;33m\u001b[0m\u001b[1;33m\u001b[0m\u001b[0m\n",
      "\u001b[1;32mD:\\dev\\anaconda\\envs\\py-3.6\\lib\\site-packages\\pandas\\core\\indexing.py\u001b[0m in \u001b[0;36m_validate_integer\u001b[1;34m(self, key, axis)\u001b[0m\n\u001b[0;32m   1435\u001b[0m         \u001b[0mlen_axis\u001b[0m \u001b[1;33m=\u001b[0m \u001b[0mlen\u001b[0m\u001b[1;33m(\u001b[0m\u001b[0mself\u001b[0m\u001b[1;33m.\u001b[0m\u001b[0mobj\u001b[0m\u001b[1;33m.\u001b[0m\u001b[0m_get_axis\u001b[0m\u001b[1;33m(\u001b[0m\u001b[0maxis\u001b[0m\u001b[1;33m)\u001b[0m\u001b[1;33m)\u001b[0m\u001b[1;33m\u001b[0m\u001b[1;33m\u001b[0m\u001b[0m\n\u001b[0;32m   1436\u001b[0m         \u001b[1;32mif\u001b[0m \u001b[0mkey\u001b[0m \u001b[1;33m>=\u001b[0m \u001b[0mlen_axis\u001b[0m \u001b[1;32mor\u001b[0m \u001b[0mkey\u001b[0m \u001b[1;33m<\u001b[0m \u001b[1;33m-\u001b[0m\u001b[0mlen_axis\u001b[0m\u001b[1;33m:\u001b[0m\u001b[1;33m\u001b[0m\u001b[1;33m\u001b[0m\u001b[0m\n\u001b[1;32m-> 1437\u001b[1;33m             \u001b[1;32mraise\u001b[0m \u001b[0mIndexError\u001b[0m\u001b[1;33m(\u001b[0m\u001b[1;34m\"single positional indexer is out-of-bounds\"\u001b[0m\u001b[1;33m)\u001b[0m\u001b[1;33m\u001b[0m\u001b[1;33m\u001b[0m\u001b[0m\n\u001b[0m\u001b[0;32m   1438\u001b[0m \u001b[1;33m\u001b[0m\u001b[0m\n\u001b[0;32m   1439\u001b[0m     \u001b[1;31m# -------------------------------------------------------------------\u001b[0m\u001b[1;33m\u001b[0m\u001b[1;33m\u001b[0m\u001b[1;33m\u001b[0m\u001b[0m\n",
      "\u001b[1;31mIndexError\u001b[0m: single positional indexer is out-of-bounds"
     ]
    }
   ],
   "source": [
    "import time\n",
    "start = time.time()\n",
    "make_recommendation_activeuser(item_info, R, R_pred, user_idx=57, k=1000)\n",
    "print(time.time()-start)"
   ]
  },
  {
   "cell_type": "code",
   "execution_count": null,
   "id": "6bcb6953",
   "metadata": {},
   "outputs": [],
   "source": []
  }
 ],
 "metadata": {
  "kernelspec": {
   "display_name": "Python 3",
   "language": "python",
   "name": "python3"
  },
  "language_info": {
   "codemirror_mode": {
    "name": "ipython",
    "version": 3
   },
   "file_extension": ".py",
   "mimetype": "text/x-python",
   "name": "python",
   "nbconvert_exporter": "python",
   "pygments_lexer": "ipython3",
   "version": "3.6.13"
  },
  "pycharm": {
   "stem_cell": {
    "cell_type": "raw",
    "metadata": {
     "collapsed": false
    },
    "source": []
   }
  }
 },
 "nbformat": 4,
 "nbformat_minor": 5
}
