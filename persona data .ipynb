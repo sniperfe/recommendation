{
 "cells": [
  {
   "cell_type": "code",
   "execution_count": 4,
   "id": "square-young",
   "metadata": {},
   "outputs": [],
   "source": [
    "import pandas as pd\n",
    "import numpy as np"
   ]
  },
  {
   "cell_type": "code",
   "execution_count": 5,
   "id": "prospective-dairy",
   "metadata": {},
   "outputs": [],
   "source": [
    "data = pd.read_csv('./files/mp_30.data', sep='|')\n",
    "data = data.groupby([data['persona'], data['movie_id']]).mean()\n",
    "data = data['rating'].round().astype(int)\n",
    "data.to_csv(\"./files/persona_data.d\", sep='|', index=True)"
   ]
  },
  {
   "cell_type": "code",
   "execution_count": null,
   "id": "77b736f1",
   "metadata": {},
   "outputs": [],
   "source": []
  }
 ],
 "metadata": {
  "kernelspec": {
   "display_name": "Python 3",
   "language": "python",
   "name": "python3"
  },
  "language_info": {
   "codemirror_mode": {
    "name": "ipython",
    "version": 3
   },
   "file_extension": ".py",
   "mimetype": "text/x-python",
   "name": "python",
   "nbconvert_exporter": "python",
   "pygments_lexer": "ipython3",
   "version": "3.6.13"
  }
 },
 "nbformat": 4,
 "nbformat_minor": 5
}
